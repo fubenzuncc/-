{
 "cells": [
  {
   "cell_type": "code",
   "execution_count": 36,
   "metadata": {},
   "outputs": [
    {
     "data": {
      "text/plain": [
       "True"
      ]
     },
     "execution_count": 36,
     "metadata": {},
     "output_type": "execute_result"
    }
   ],
   "source": [
    "import cv2\n",
    "import numpy as np\n",
    "\n",
    "# 读取\"k.png\"和\"mask.png\"图像\n",
    "k_image = cv2.imread(\"noisy_k_0.7.png\")\n",
    "mask_image = cv2.imread(\"mask.png\", 0)  # 以灰度模式读取mask图像\n",
    "\n",
    "# 调整图像大小为相同尺寸\n",
    "height, width = k_image.shape[:2]\n",
    "mask_image = cv2.resize(mask_image, (width, height))\n",
    "\n",
    "# 在mask为0的位置将k图片内容设置为0\n",
    "k_image[np.where(mask_image == 0)] = 0\n",
    "\n",
    "# 保存生成的图像到本地\n",
    "cv2.imwrite(\"result_noisy_k_0.7.png\", k_image)"
   ]
  },
  {
   "cell_type": "code",
   "execution_count": 33,
   "metadata": {},
   "outputs": [
    {
     "data": {
      "text/plain": [
       "True"
      ]
     },
     "execution_count": 33,
     "metadata": {},
     "output_type": "execute_result"
    }
   ],
   "source": [
    "import cv2\n",
    "import numpy as np\n",
    "\n",
    "# 读取\"k.png\"图像\n",
    "image = cv2.imread(\"k.png\", 0)  # 以灰度模式读取图像\n",
    "\n",
    "# 生成与图像大小相同的高斯白噪声\n",
    "mean = 0\n",
    "stddev = 2  # 根据需要调整标准差\n",
    "noise = np.random.normal(mean, stddev, image.shape).astype(np.uint8)\n",
    "\n",
    "# 将噪声添加到图像上\n",
    "noisy_image = cv2.add(image, noise)\n",
    "\n",
    "# 保存修改后的图像\n",
    "cv2.imwrite(\"noisy_k_2.png\", noisy_image)"
   ]
  }
 ],
 "metadata": {
  "kernelspec": {
   "display_name": "Python 3",
   "language": "python",
   "name": "python3"
  },
  "language_info": {
   "codemirror_mode": {
    "name": "ipython",
    "version": 3
   },
   "file_extension": ".py",
   "mimetype": "text/x-python",
   "name": "python",
   "nbconvert_exporter": "python",
   "pygments_lexer": "ipython3",
   "version": "3.9.16"
  }
 },
 "nbformat": 4,
 "nbformat_minor": 2
}
